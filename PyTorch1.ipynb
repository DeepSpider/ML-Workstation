{
 "cells": [
  {
   "cell_type": "code",
   "execution_count": 1,
   "metadata": {
    "executionInfo": {
     "elapsed": 5897,
     "status": "ok",
     "timestamp": 1681379974061,
     "user": {
      "displayName": "Ashim Malgope",
      "userId": "17668799308781208227"
     },
     "user_tz": -330
    },
    "id": "vboqbeH9sgTp"
   },
   "outputs": [],
   "source": [
    "import numpy as np\n",
    "import torch\n",
    "import torch.nn as nn\n",
    "import matplotlib.pyplot as plt"
   ]
  },
  {
   "cell_type": "code",
   "execution_count": 3,
   "metadata": {
    "colab": {
     "base_uri": "https://localhost:8080/"
    },
    "executionInfo": {
     "elapsed": 10457,
     "status": "ok",
     "timestamp": 1681379986030,
     "user": {
      "displayName": "Ashim Malgope",
      "userId": "17668799308781208227"
     },
     "user_tz": -330
    },
    "id": "BSClVTZdIMHl",
    "outputId": "bbfd7cee-bd76-4657-c4f0-5a510f0be2db"
   },
   "outputs": [
    {
     "name": "stdout",
     "output_type": "stream",
     "text": [
      "time: 391 µs (started: 2023-04-17 21:26:45 +05:30)\n"
     ]
    }
   ],
   "source": [
    "# Need to install this into the env i.e. tensorflow env or pytorch env\n",
    "# !pip install ipython-autotime\n",
    "%load_ext autotime"
   ]
  },
  {
   "cell_type": "code",
   "execution_count": 4,
   "metadata": {
    "colab": {
     "base_uri": "https://localhost:8080/"
    },
    "executionInfo": {
     "elapsed": 3,
     "status": "ok",
     "timestamp": 1681379989838,
     "user": {
      "displayName": "Ashim Malgope",
      "userId": "17668799308781208227"
     },
     "user_tz": -330
    },
    "id": "00rnydDi7cDY",
    "outputId": "df033d90-9a77-49d0-9ab8-3edb1ae88801"
   },
   "outputs": [
    {
     "name": "stdout",
     "output_type": "stream",
     "text": [
      "time: 23.5 ms (started: 2023-04-17 21:27:10 +05:30)\n"
     ]
    }
   ],
   "source": [
    "# Use this one liner\n",
    "device = torch.device('cuda' if torch.cuda.is_available() else 'cpu')\n",
    "\n",
    "# manually turning off cuda, just to test\n",
    "# device = torch.device('cuda' if False else 'cpu')"
   ]
  },
  {
   "cell_type": "code",
   "execution_count": 5,
   "metadata": {
    "colab": {
     "base_uri": "https://localhost:8080/"
    },
    "executionInfo": {
     "elapsed": 3,
     "status": "ok",
     "timestamp": 1681379992084,
     "user": {
      "displayName": "Ashim Malgope",
      "userId": "17668799308781208227"
     },
     "user_tz": -330
    },
    "id": "xmnuCAcuskET",
    "outputId": "69d3ed9a-7f2a-4224-f3d9-59c175135287"
   },
   "outputs": [
    {
     "name": "stdout",
     "output_type": "stream",
     "text": [
      "2.0.0+cu118\n",
      "time: 568 µs (started: 2023-04-17 21:27:12 +05:30)\n"
     ]
    }
   ],
   "source": [
    "print(torch.__version__)\n",
    "# you can use this to set CUDA as default, but if CUDA is not available then you will get error\n",
    "# torch.set_default_tensor_type('torch.cuda.FloatTensor')"
   ]
  },
  {
   "cell_type": "code",
   "execution_count": 6,
   "metadata": {
    "colab": {
     "base_uri": "https://localhost:8080/"
    },
    "executionInfo": {
     "elapsed": 4,
     "status": "ok",
     "timestamp": 1681379994185,
     "user": {
      "displayName": "Ashim Malgope",
      "userId": "17668799308781208227"
     },
     "user_tz": -330
    },
    "id": "A6QX5Jw5srKT",
    "outputId": "f5b1724d-6b89-4f95-c345-78f676b3abc5"
   },
   "outputs": [
    {
     "name": "stdout",
     "output_type": "stream",
     "text": [
      "time: 1.11 s (started: 2023-04-17 21:27:14 +05:30)\n"
     ]
    }
   ],
   "source": [
    "N = 50\n",
    "x = torch.randn(N, 1).to(device)\n",
    "y = 3*x + torch.randn(N, 1).to(device)"
   ]
  },
  {
   "cell_type": "code",
   "execution_count": 7,
   "metadata": {
    "colab": {
     "base_uri": "https://localhost:8080/",
     "height": 448
    },
    "executionInfo": {
     "elapsed": 10,
     "status": "ok",
     "timestamp": 1681378864095,
     "user": {
      "displayName": "Ashim Malgope",
      "userId": "17668799308781208227"
     },
     "user_tz": -330
    },
    "id": "psY9uGCWvFh1",
    "outputId": "21e7e76b-0654-4084-fcc0-3de20733b95d"
   },
   "outputs": [
    {
     "data": {
      "image/png": "[encoded data removed]",
      "text/plain": [
       "<Figure size 640x480 with 1 Axes>"
      ]
     },
     "metadata": {},
     "output_type": "display_data"
    },
    {
     "name": "stdout",
     "output_type": "stream",
     "text": [
      "time: 157 ms (started: 2023-04-17 21:27:36 +05:30)\n"
     ]
    }
   ],
   "source": [
    "plt.plot(x.cpu(), y.cpu(), 's')\n",
    "plt.show()"
   ]
  },
  {
   "cell_type": "code",
   "execution_count": 8,
   "metadata": {
    "colab": {
     "base_uri": "https://localhost:8080/"
    },
    "executionInfo": {
     "elapsed": 3,
     "status": "ok",
     "timestamp": 1681378867162,
     "user": {
      "displayName": "Ashim Malgope",
      "userId": "17668799308781208227"
     },
     "user_tz": -330
    },
    "id": "tQVZkZE2Aa8I",
    "outputId": "07993891-af88-4bcc-b71b-a39c8ba20590"
   },
   "outputs": [
    {
     "name": "stdout",
     "output_type": "stream",
     "text": [
      "time: 2.93 ms (started: 2023-04-17 21:27:44 +05:30)\n"
     ]
    }
   ],
   "source": [
    "ANNreg = nn.Sequential(\n",
    "    nn.Linear(1, 1),  # input layer\n",
    "    nn.Linear(1, 1)  # output layer\n",
    ")"
   ]
  },
  {
   "cell_type": "code",
   "execution_count": 9,
   "metadata": {
    "colab": {
     "base_uri": "https://localhost:8080/"
    },
    "executionInfo": {
     "elapsed": 4,
     "status": "ok",
     "timestamp": 1681378869088,
     "user": {
      "displayName": "Ashim Malgope",
      "userId": "17668799308781208227"
     },
     "user_tz": -330
    },
    "id": "SMvsAFXWA2GV",
    "outputId": "ba3de8ee-9b1f-4238-cb41-f511e2cec49f"
   },
   "outputs": [
    {
     "name": "stdout",
     "output_type": "stream",
     "text": [
      "time: 1.21 ms (started: 2023-04-17 21:27:45 +05:30)\n"
     ]
    }
   ],
   "source": [
    "ANNreg = ANNreg.to(device)"
   ]
  },
  {
   "cell_type": "code",
   "execution_count": 10,
   "metadata": {
    "colab": {
     "base_uri": "https://localhost:8080/"
    },
    "executionInfo": {
     "elapsed": 3,
     "status": "ok",
     "timestamp": 1681378871179,
     "user": {
      "displayName": "Ashim Malgope",
      "userId": "17668799308781208227"
     },
     "user_tz": -330
    },
    "id": "Trk-BoAK9Acv",
    "outputId": "a7df31d4-eb45-4d03-f7a1-4fd4715a353d"
   },
   "outputs": [
    {
     "data": {
      "text/plain": [
       "Sequential(\n",
       "  (0): Linear(in_features=1, out_features=1, bias=True)\n",
       "  (1): Linear(in_features=1, out_features=1, bias=True)\n",
       ")"
      ]
     },
     "execution_count": 10,
     "metadata": {},
     "output_type": "execute_result"
    },
    {
     "name": "stdout",
     "output_type": "stream",
     "text": [
      "time: 3.27 ms (started: 2023-04-17 21:27:46 +05:30)\n"
     ]
    }
   ],
   "source": [
    "ANNreg"
   ]
  },
  {
   "cell_type": "code",
   "execution_count": 11,
   "metadata": {
    "colab": {
     "base_uri": "https://localhost:8080/"
    },
    "executionInfo": {
     "elapsed": 4,
     "status": "ok",
     "timestamp": 1681378873235,
     "user": {
      "displayName": "Ashim Malgope",
      "userId": "17668799308781208227"
     },
     "user_tz": -330
    },
    "id": "vUQ_11H3B7Zz",
    "outputId": "4943e43a-f3f3-49b5-d2e0-49fe4ff61fad"
   },
   "outputs": [
    {
     "name": "stdout",
     "output_type": "stream",
     "text": [
      "time: 640 µs (started: 2023-04-17 21:27:47 +05:30)\n"
     ]
    }
   ],
   "source": [
    "# Learning rate\n",
    "lr = 0.01\n",
    "lossfunc = nn.MSELoss()"
   ]
  },
  {
   "cell_type": "code",
   "execution_count": 12,
   "metadata": {
    "colab": {
     "base_uri": "https://localhost:8080/"
    },
    "executionInfo": {
     "elapsed": 2,
     "status": "ok",
     "timestamp": 1681378875376,
     "user": {
      "displayName": "Ashim Malgope",
      "userId": "17668799308781208227"
     },
     "user_tz": -330
    },
    "id": "1yV03jDNCC7-",
    "outputId": "a1b2e0bf-597e-4cae-ab86-d24ba8bcad0b"
   },
   "outputs": [
    {
     "name": "stdout",
     "output_type": "stream",
     "text": [
      "time: 519 µs (started: 2023-04-17 21:27:54 +05:30)\n"
     ]
    }
   ],
   "source": [
    "optimizer = torch.optim.SGD(ANNreg.parameters(), lr=lr)"
   ]
  },
  {
   "cell_type": "code",
   "execution_count": 13,
   "metadata": {
    "colab": {
     "base_uri": "https://localhost:8080/"
    },
    "executionInfo": {
     "elapsed": 3,
     "status": "ok",
     "timestamp": 1681378877561,
     "user": {
      "displayName": "Ashim Malgope",
      "userId": "17668799308781208227"
     },
     "user_tz": -330
    },
    "id": "xVoIKVVsCvXI",
    "outputId": "67aed076-f930-4e50-8b0a-35db3d10cca5"
   },
   "outputs": [
    {
     "name": "stdout",
     "output_type": "stream",
     "text": [
      "time: 1.45 ms (started: 2023-04-17 21:27:55 +05:30)\n"
     ]
    }
   ],
   "source": [
    "epochs = 500\n",
    "losses = torch.zeros(epochs).to(device)"
   ]
  },
  {
   "cell_type": "code",
   "execution_count": 14,
   "metadata": {
    "colab": {
     "base_uri": "https://localhost:8080/"
    },
    "executionInfo": {
     "elapsed": 774,
     "status": "ok",
     "timestamp": 1681378880068,
     "user": {
      "displayName": "Ashim Malgope",
      "userId": "17668799308781208227"
     },
     "user_tz": -330
    },
    "id": "yIgIzEyXC2fi",
    "outputId": "28a434cd-9d73-4436-8b62-c48f9d2a2f5f"
   },
   "outputs": [
    {
     "name": "stdout",
     "output_type": "stream",
     "text": [
      "time: 1.31 s (started: 2023-04-17 21:27:59 +05:30)\n"
     ]
    }
   ],
   "source": [
    "for epoch in range(epochs):\n",
    "  # forward pass\n",
    "  yPred = ANNreg(x).to(device)\n",
    "\n",
    "  # compute loss\n",
    "  loss = lossfunc(yPred, y)\n",
    "  losses[epoch] = loss\n",
    "\n",
    "  # backprop\n",
    "  optimizer.zero_grad()\n",
    "  loss.backward()\n",
    "  optimizer.step()"
   ]
  },
  {
   "cell_type": "code",
   "execution_count": 15,
   "metadata": {
    "colab": {
     "base_uri": "https://localhost:8080/"
    },
    "executionInfo": {
     "elapsed": 3,
     "status": "ok",
     "timestamp": 1681378882043,
     "user": {
      "displayName": "Ashim Malgope",
      "userId": "17668799308781208227"
     },
     "user_tz": -330
    },
    "id": "0Kq8EMiPDn-C",
    "outputId": "85685226-31e3-48fe-ceb6-d4192b5fe7f4"
   },
   "outputs": [
    {
     "name": "stdout",
     "output_type": "stream",
     "text": [
      "time: 1.14 ms (started: 2023-04-17 21:28:01 +05:30)\n"
     ]
    }
   ],
   "source": [
    "predictions = ANNreg(x)"
   ]
  },
  {
   "cell_type": "code",
   "execution_count": 16,
   "metadata": {
    "colab": {
     "base_uri": "https://localhost:8080/"
    },
    "executionInfo": {
     "elapsed": 4,
     "status": "ok",
     "timestamp": 1681378883886,
     "user": {
      "displayName": "Ashim Malgope",
      "userId": "17668799308781208227"
     },
     "user_tz": -330
    },
    "id": "b8-f4D_bDtLE",
    "outputId": "b94943d8-200d-4381-f885-7196d4b80743"
   },
   "outputs": [
    {
     "name": "stdout",
     "output_type": "stream",
     "text": [
      "time: 973 µs (started: 2023-04-17 21:28:02 +05:30)\n"
     ]
    }
   ],
   "source": [
    "testloss = (predictions - y).pow(2).mean()"
   ]
  },
  {
   "cell_type": "code",
   "execution_count": 17,
   "metadata": {
    "colab": {
     "base_uri": "https://localhost:8080/",
     "height": 490
    },
    "executionInfo": {
     "elapsed": 661,
     "status": "ok",
     "timestamp": 1681378886342,
     "user": {
      "displayName": "Ashim Malgope",
      "userId": "17668799308781208227"
     },
     "user_tz": -330
    },
    "id": "EgHGXfOsDzq2",
    "outputId": "5f67616e-cf71-4308-8549-8cabe084f0a5"
   },
   "outputs": [
    {
     "data": {
      "image/png": "[encoded data removed]",
      "text/plain": [
       "<Figure size 640x480 with 1 Axes>"
      ]
     },
     "metadata": {},
     "output_type": "display_data"
    },
    {
     "name": "stdout",
     "output_type": "stream",
     "text": [
      "time: 163 ms (started: 2023-04-17 21:28:03 +05:30)\n"
     ]
    }
   ],
   "source": [
    "# detach() function removes the grandient function\n",
    "# associated with the tensor returned and a normal tensor is returned\n",
    "plt.plot(losses.detach().cpu(), 'o', markerfacecolor='w', linewidth=0.1)\n",
    "plt.plot(epochs, testloss.detach().cpu(), 'ro')\n",
    "plt.xlabel('Epoch')\n",
    "plt.ylabel('Loss')\n",
    "# item() returns only the value, not a tensor\n",
    "plt.title('Final loss = %g' %testloss.item())\n",
    "plt.show()"
   ]
  },
  {
   "cell_type": "code",
   "execution_count": 18,
   "metadata": {
    "colab": {
     "base_uri": "https://localhost:8080/",
     "height": 470
    },
    "executionInfo": {
     "elapsed": 634,
     "status": "ok",
     "timestamp": 1681378888857,
     "user": {
      "displayName": "Ashim Malgope",
      "userId": "17668799308781208227"
     },
     "user_tz": -330
    },
    "id": "NCMLL2WjEcSh",
    "outputId": "6c462c09-d867-4dd9-88fc-3db6c7016ab5"
   },
   "outputs": [
    {
     "data": {
      "image/png": "[encoded data removed]",
      "text/plain": [
       "<Figure size 640x480 with 1 Axes>"
      ]
     },
     "metadata": {},
     "output_type": "display_data"
    },
    {
     "name": "stdout",
     "output_type": "stream",
     "text": [
      "time: 188 ms (started: 2023-04-17 21:28:07 +05:30)\n"
     ]
    }
   ],
   "source": [
    "# plot the data\n",
    "plt.plot(x.cpu(), y.cpu(), 'bo', label='Real data')\n",
    "plt.plot(x.cpu(), predictions.detach().cpu(), 'rs', label='Predictions')\n",
    "plt.title(f'prediction-data r={np.corrcoef(y.T.cpu(), predictions.detach().T.cpu())[0, 1]:.2f}')\n",
    "plt.legend()\n",
    "plt.show()"
   ]
  },
  {
   "cell_type": "code",
   "execution_count": null,
   "metadata": {},
   "outputs": [],
   "source": []
  }
 ],
 "metadata": {
  "colab": {
   "provenance": []
  },
  "gpuClass": "standard",
  "kernelspec": {
   "display_name": "pytorch-gpu",
   "language": "python",
   "name": "pytorch-gpu"
  },
  "language_info": {
   "codemirror_mode": {
    "name": "ipython",
    "version": 3
   },
   "file_extension": ".py",
   "mimetype": "text/x-python",
   "name": "python",
   "nbconvert_exporter": "python",
   "pygments_lexer": "ipython3",
   "version": "3.10.10"
  }
 },
 "nbformat": 4,
 "nbformat_minor": 4
}
