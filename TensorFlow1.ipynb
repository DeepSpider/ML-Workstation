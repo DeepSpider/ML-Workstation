{
 "cells": [
  {
   "cell_type": "code",
   "execution_count": 1,
   "metadata": {
    "executionInfo": {
     "elapsed": 12477,
     "status": "ok",
     "timestamp": 1681383607743,
     "user": {
      "displayName": "Ashim Malgope",
      "userId": "17668799308781208227"
     },
     "user_tz": -330
    },
    "id": "3J0AfiI4AdA5"
   },
   "outputs": [
    {
     "name": "stderr",
     "output_type": "stream",
     "text": [
      "2023-04-17 20:43:19.472637: I tensorflow/core/platform/cpu_feature_guard.cc:182] This TensorFlow binary is optimized to use available CPU instructions in performance-critical operations.\n",
      "To enable the following instructions: AVX2 FMA, in other operations, rebuild TensorFlow with the appropriate compiler flags.\n"
     ]
    }
   ],
   "source": [
    "import tensorflow as tf\n",
    "from tensorflow import keras\n",
    "import numpy as np\n",
    "import pandas as pd\n",
    "import matplotlib.pyplot as plt"
   ]
  },
  {
   "cell_type": "code",
   "execution_count": 2,
   "metadata": {
    "colab": {
     "base_uri": "https://localhost:8080/"
    },
    "executionInfo": {
     "elapsed": 9233,
     "status": "ok",
     "timestamp": 1681383618857,
     "user": {
      "displayName": "Ashim Malgope",
      "userId": "17668799308781208227"
     },
     "user_tz": -330
    },
    "id": "mBoYz6MNCNNE",
    "outputId": "d4651877-0d69-41fa-f1fe-29ed210cad78"
   },
   "outputs": [
    {
     "name": "stdout",
     "output_type": "stream",
     "text": [
      "time: 437 µs (started: 2023-04-17 20:43:22 +05:30)\n"
     ]
    }
   ],
   "source": [
    "# Need to install this into the env i.e. tensorflow env or pytorch env\n",
    "#!pip install ipython-autotime\n",
    "%load_ext autotime"
   ]
  },
  {
   "cell_type": "code",
   "execution_count": 3,
   "metadata": {
    "colab": {
     "base_uri": "https://localhost:8080/"
    },
    "executionInfo": {
     "elapsed": 4,
     "status": "ok",
     "timestamp": 1681383620933,
     "user": {
      "displayName": "Ashim Malgope",
      "userId": "17668799308781208227"
     },
     "user_tz": -330
    },
    "id": "aqikg8aPBMSa",
    "outputId": "0bcb3f21-7cf4-4e24-d623-641238e668a3"
   },
   "outputs": [
    {
     "name": "stdout",
     "output_type": "stream",
     "text": [
      "2.12.0\n",
      "time: 410 µs (started: 2023-04-17 20:43:24 +05:30)\n"
     ]
    }
   ],
   "source": [
    "print(tf.__version__)"
   ]
  },
  {
   "cell_type": "code",
   "execution_count": 4,
   "metadata": {
    "colab": {
     "base_uri": "https://localhost:8080/"
    },
    "executionInfo": {
     "elapsed": 3,
     "status": "ok",
     "timestamp": 1681383623179,
     "user": {
      "displayName": "Ashim Malgope",
      "userId": "17668799308781208227"
     },
     "user_tz": -330
    },
    "id": "6V-t0dO_KHEE",
    "outputId": "6b6633f4-c34b-4036-ad50-5fba0326a448"
   },
   "outputs": [
    {
     "name": "stdout",
     "output_type": "stream",
     "text": [
      "GPU(s) : [PhysicalDevice(name='/physical_device:GPU:0', device_type='GPU')]\n",
      "CPU(s) : [PhysicalDevice(name='/physical_device:CPU:0', device_type='CPU')]\n",
      "1 Physical GPUs, 1 Logical GPUs\n",
      "time: 690 ms (started: 2023-04-17 20:43:27 +05:30)\n"
     ]
    },
    {
     "name": "stderr",
     "output_type": "stream",
     "text": [
      "2023-04-17 20:43:27.551016: I tensorflow/compiler/xla/stream_executor/cuda/cuda_gpu_executor.cc:996] successful NUMA node read from SysFS had negative value (-1), but there must be at least one NUMA node, so returning NUMA node zero. See more at https://github.com/torvalds/linux/blob/v6.0/Documentation/ABI/testing/sysfs-bus-pci#L344-L355\n",
      "2023-04-17 20:43:27.570330: I tensorflow/compiler/xla/stream_executor/cuda/cuda_gpu_executor.cc:996] successful NUMA node read from SysFS had negative value (-1), but there must be at least one NUMA node, so returning NUMA node zero. See more at https://github.com/torvalds/linux/blob/v6.0/Documentation/ABI/testing/sysfs-bus-pci#L344-L355\n",
      "2023-04-17 20:43:27.570538: I tensorflow/compiler/xla/stream_executor/cuda/cuda_gpu_executor.cc:996] successful NUMA node read from SysFS had negative value (-1), but there must be at least one NUMA node, so returning NUMA node zero. See more at https://github.com/torvalds/linux/blob/v6.0/Documentation/ABI/testing/sysfs-bus-pci#L344-L355\n",
      "2023-04-17 20:43:27.573331: I tensorflow/compiler/xla/stream_executor/cuda/cuda_gpu_executor.cc:996] successful NUMA node read from SysFS had negative value (-1), but there must be at least one NUMA node, so returning NUMA node zero. See more at https://github.com/torvalds/linux/blob/v6.0/Documentation/ABI/testing/sysfs-bus-pci#L344-L355\n",
      "2023-04-17 20:43:27.573540: I tensorflow/compiler/xla/stream_executor/cuda/cuda_gpu_executor.cc:996] successful NUMA node read from SysFS had negative value (-1), but there must be at least one NUMA node, so returning NUMA node zero. See more at https://github.com/torvalds/linux/blob/v6.0/Documentation/ABI/testing/sysfs-bus-pci#L344-L355\n",
      "2023-04-17 20:43:27.573687: I tensorflow/compiler/xla/stream_executor/cuda/cuda_gpu_executor.cc:996] successful NUMA node read from SysFS had negative value (-1), but there must be at least one NUMA node, so returning NUMA node zero. See more at https://github.com/torvalds/linux/blob/v6.0/Documentation/ABI/testing/sysfs-bus-pci#L344-L355\n",
      "2023-04-17 20:43:28.225997: I tensorflow/compiler/xla/stream_executor/cuda/cuda_gpu_executor.cc:996] successful NUMA node read from SysFS had negative value (-1), but there must be at least one NUMA node, so returning NUMA node zero. See more at https://github.com/torvalds/linux/blob/v6.0/Documentation/ABI/testing/sysfs-bus-pci#L344-L355\n",
      "2023-04-17 20:43:28.226235: I tensorflow/compiler/xla/stream_executor/cuda/cuda_gpu_executor.cc:996] successful NUMA node read from SysFS had negative value (-1), but there must be at least one NUMA node, so returning NUMA node zero. See more at https://github.com/torvalds/linux/blob/v6.0/Documentation/ABI/testing/sysfs-bus-pci#L344-L355\n",
      "2023-04-17 20:43:28.226377: I tensorflow/compiler/xla/stream_executor/cuda/cuda_gpu_executor.cc:996] successful NUMA node read from SysFS had negative value (-1), but there must be at least one NUMA node, so returning NUMA node zero. See more at https://github.com/torvalds/linux/blob/v6.0/Documentation/ABI/testing/sysfs-bus-pci#L344-L355\n",
      "2023-04-17 20:43:28.226497: I tensorflow/core/common_runtime/gpu/gpu_device.cc:1635] Created device /job:localhost/replica:0/task:0/device:GPU:0 with 1024 MB memory:  -> device: 0, name: NVIDIA GeForce RTX 4090, pci bus id: 0000:07:00.0, compute capability: 8.9\n"
     ]
    }
   ],
   "source": [
    "gpus = tf.config.list_physical_devices('GPU')\n",
    "cpus = tf.config.list_physical_devices('CPU')\n",
    "print(\"GPU(s) : \" + str(gpus))\n",
    "print(\"CPU(s) : \" + str(cpus))\n",
    "# if len(gpus) > 0:\n",
    "#     print(\"Setting up to use GPU\")\n",
    "#     tf.config.set_visible_devices(gpus[0], 'GPU')\n",
    "# else:\n",
    "#     print(\"Setting up to use CPU\")\n",
    "#     tf.config.set_visible_devices(cpus[0], 'CPU')  # this doesn't work if you have a GPU which is visible to TensorFlow\n",
    "\n",
    "if gpus:\n",
    "  # Restrict TensorFlow to only allocate 1GB of memory on the first GPU\n",
    "    try:\n",
    "        tf.config.set_logical_device_configuration(\n",
    "        gpus[0],\n",
    "        [tf.config.LogicalDeviceConfiguration(memory_limit=1024)])\n",
    "        logical_gpus = tf.config.list_logical_devices('GPU')\n",
    "        print(len(gpus), \"Physical GPUs,\", len(logical_gpus), \"Logical GPUs\")\n",
    "    except RuntimeError as e:\n",
    "        # Virtual devices must be set before GPUs have been initialized\n",
    "        print(e)"
   ]
  },
  {
   "cell_type": "code",
   "execution_count": 5,
   "metadata": {
    "colab": {
     "base_uri": "https://localhost:8080/"
    },
    "executionInfo": {
     "elapsed": 4,
     "status": "ok",
     "timestamp": 1681383626462,
     "user": {
      "displayName": "Ashim Malgope",
      "userId": "17668799308781208227"
     },
     "user_tz": -330
    },
    "id": "OCv7RvZZBR8B",
    "outputId": "27f283cf-791c-4016-c051-bf3a320bdd6d"
   },
   "outputs": [
    {
     "name": "stdout",
     "output_type": "stream",
     "text": [
      "time: 56.5 ms (started: 2023-04-17 20:43:44 +05:30)\n"
     ]
    }
   ],
   "source": [
    "N = 50\n",
    "x = tf.random.normal(shape = (N, 1), mean=1, stddev=1, dtype=tf.float32, seed=None,  name=None)\n",
    "y = 3*x + tf.random.normal(shape = (N, 1), mean=1, stddev=1, dtype=tf.float32, seed=None,  name=None)"
   ]
  },
  {
   "cell_type": "code",
   "execution_count": 6,
   "metadata": {
    "colab": {
     "base_uri": "https://localhost:8080/",
     "height": 448
    },
    "executionInfo": {
     "elapsed": 1153,
     "status": "ok",
     "timestamp": 1681383629307,
     "user": {
      "displayName": "Ashim Malgope",
      "userId": "17668799308781208227"
     },
     "user_tz": -330
    },
    "id": "lYqtOjp3Cy3l",
    "outputId": "49430b1c-2709-40a3-fd32-a65dcb15aaab"
   },
   "outputs": [
    {
     "data": {
      "image/png": "[encoded data removed]",
      "text/plain": [
       "<Figure size 640x480 with 1 Axes>"
      ]
     },
     "metadata": {},
     "output_type": "display_data"
    },
    {
     "name": "stdout",
     "output_type": "stream",
     "text": [
      "time: 181 ms (started: 2023-04-17 20:43:52 +05:30)\n"
     ]
    }
   ],
   "source": [
    "plt.plot(x, y, 's')\n",
    "plt.show()"
   ]
  },
  {
   "cell_type": "code",
   "execution_count": 7,
   "metadata": {
    "colab": {
     "base_uri": "https://localhost:8080/"
    },
    "executionInfo": {
     "elapsed": 376,
     "status": "ok",
     "timestamp": 1681383631158,
     "user": {
      "displayName": "Ashim Malgope",
      "userId": "17668799308781208227"
     },
     "user_tz": -330
    },
    "id": "_GnVLuJNBYsE",
    "outputId": "77591a6d-8f47-406a-b79a-869011c21771"
   },
   "outputs": [
    {
     "name": "stdout",
     "output_type": "stream",
     "text": [
      "time: 52.3 ms (started: 2023-04-17 20:43:53 +05:30)\n"
     ]
    }
   ],
   "source": [
    "model = keras.Sequential([\n",
    "      keras.layers.Dense(1, use_bias=True, input_shape=(1,))\n",
    "    ])"
   ]
  },
  {
   "cell_type": "code",
   "execution_count": 8,
   "metadata": {
    "colab": {
     "base_uri": "https://localhost:8080/"
    },
    "executionInfo": {
     "elapsed": 9,
     "status": "ok",
     "timestamp": 1681383632691,
     "user": {
      "displayName": "Ashim Malgope",
      "userId": "17668799308781208227"
     },
     "user_tz": -330
    },
    "id": "jRM4OfxZGUI-",
    "outputId": "bfd0bab2-43a0-4d56-e55f-3f052074eb60"
   },
   "outputs": [
    {
     "name": "stdout",
     "output_type": "stream",
     "text": [
      "Model: \"sequential\"\n",
      "_________________________________________________________________\n",
      " Layer (type)                Output Shape              Param #   \n",
      "=================================================================\n",
      " dense (Dense)               (None, 1)                 2         \n",
      "                                                                 \n",
      "=================================================================\n",
      "Total params: 2\n",
      "Trainable params: 2\n",
      "Non-trainable params: 0\n",
      "_________________________________________________________________\n",
      "time: 8.59 ms (started: 2023-04-17 20:43:55 +05:30)\n"
     ]
    }
   ],
   "source": [
    "model.summary()"
   ]
  },
  {
   "cell_type": "code",
   "execution_count": 9,
   "metadata": {
    "colab": {
     "base_uri": "https://localhost:8080/"
    },
    "executionInfo": {
     "elapsed": 4,
     "status": "ok",
     "timestamp": 1681383634419,
     "user": {
      "displayName": "Ashim Malgope",
      "userId": "17668799308781208227"
     },
     "user_tz": -330
    },
    "id": "1E2utYpmBb3e",
    "outputId": "184e1e59-5f07-44fc-ed15-7edeb3be9b3a"
   },
   "outputs": [
    {
     "name": "stdout",
     "output_type": "stream",
     "text": [
      "time: 11.9 ms (started: 2023-04-17 20:43:56 +05:30)\n"
     ]
    }
   ],
   "source": [
    "# Adam optimizer\n",
    "optimizer = tf.keras.optimizers.SGD(learning_rate=0.01)\n",
    "  \n",
    "# Model compiling settings\n",
    "model.compile(loss='mse', optimizer=optimizer, metrics=['mse'])"
   ]
  },
  {
   "cell_type": "code",
   "execution_count": 10,
   "metadata": {
    "colab": {
     "base_uri": "https://localhost:8080/"
    },
    "executionInfo": {
     "elapsed": 11320,
     "status": "ok",
     "timestamp": 1681383647546,
     "user": {
      "displayName": "Ashim Malgope",
      "userId": "17668799308781208227"
     },
     "user_tz": -330
    },
    "id": "tGm_ODdrBeMI",
    "outputId": "e87be8b3-d305-4fb8-cd8c-c11ab001f99f"
   },
   "outputs": [
    {
     "name": "stderr",
     "output_type": "stream",
     "text": [
      "2023-04-17 20:44:00.682093: I tensorflow/compiler/xla/service/service.cc:169] XLA service 0x7f002801d5b0 initialized for platform CUDA (this does not guarantee that XLA will be used). Devices:\n",
      "2023-04-17 20:44:00.682114: I tensorflow/compiler/xla/service/service.cc:177]   StreamExecutor device (0): NVIDIA GeForce RTX 4090, Compute Capability 8.9\n",
      "2023-04-17 20:44:00.846612: I tensorflow/compiler/xla/stream_executor/cuda/cuda_dnn.cc:424] Loaded cuDNN version 8801\n",
      "2023-04-17 20:44:01.004532: I ./tensorflow/compiler/jit/device_compiler.h:180] Compiled cluster using XLA!  This line is logged at most once for the lifetime of the process.\n"
     ]
    },
    {
     "name": "stdout",
     "output_type": "stream",
     "text": [
      "time: 4.74 s (started: 2023-04-17 20:43:59 +05:30)\n"
     ]
    }
   ],
   "source": [
    "epochs = 500\n",
    "history = model.fit(x, y, epochs=epochs, verbose=0)"
   ]
  },
  {
   "cell_type": "code",
   "execution_count": 11,
   "metadata": {
    "colab": {
     "base_uri": "https://localhost:8080/"
    },
    "executionInfo": {
     "elapsed": 599,
     "status": "ok",
     "timestamp": 1681383650807,
     "user": {
      "displayName": "Ashim Malgope",
      "userId": "17668799308781208227"
     },
     "user_tz": -330
    },
    "id": "whSpm9egO9rE",
    "outputId": "766e0c48-6fcf-4697-9707-1d23e93bc88d"
   },
   "outputs": [
    {
     "name": "stdout",
     "output_type": "stream",
     "text": [
      "time: 7.63 ms (started: 2023-04-17 20:44:06 +05:30)\n"
     ]
    }
   ],
   "source": [
    "predictions = model(x)"
   ]
  },
  {
   "cell_type": "code",
   "execution_count": 12,
   "metadata": {
    "colab": {
     "base_uri": "https://localhost:8080/"
    },
    "executionInfo": {
     "elapsed": 4,
     "status": "ok",
     "timestamp": 1681383652532,
     "user": {
      "displayName": "Ashim Malgope",
      "userId": "17668799308781208227"
     },
     "user_tz": -330
    },
    "id": "2svGn1ysO6h_",
    "outputId": "b0a795fa-3d07-40ca-b703-7d6035d30b79"
   },
   "outputs": [
    {
     "name": "stdout",
     "output_type": "stream",
     "text": [
      "time: 4.64 ms (started: 2023-04-17 20:44:08 +05:30)\n"
     ]
    }
   ],
   "source": [
    "testloss = tf.reduce_mean((predictions - y)*(predictions - y))"
   ]
  },
  {
   "cell_type": "code",
   "execution_count": 13,
   "metadata": {
    "colab": {
     "base_uri": "https://localhost:8080/",
     "height": 490
    },
    "executionInfo": {
     "elapsed": 970,
     "status": "ok",
     "timestamp": 1681383655133,
     "user": {
      "displayName": "Ashim Malgope",
      "userId": "17668799308781208227"
     },
     "user_tz": -330
    },
    "id": "hI3cs7vQHSnM",
    "outputId": "37c182d0-5f15-4060-f708-50f6d9a1db31"
   },
   "outputs": [
    {
     "data": {
      "image/png": "[encoded data removed]",
      "text/plain": [
       "<Figure size 640x480 with 1 Axes>"
      ]
     },
     "metadata": {},
     "output_type": "display_data"
    },
    {
     "name": "stdout",
     "output_type": "stream",
     "text": [
      "time: 162 ms (started: 2023-04-17 20:44:09 +05:30)\n"
     ]
    }
   ],
   "source": [
    "# Returning the desired values for plotting and turn to numpy array\n",
    "mse = np.asarray(history.history['mse'])\n",
    "plt.plot(mse, 'o', markerfacecolor='w', linewidth=0.1)\n",
    "plt.plot(epochs, testloss, 'ro')\n",
    "plt.xlabel('Epoch')\n",
    "plt.ylabel('Loss')\n",
    "# item() returns only the value, not a tensor\n",
    "plt.title('Final loss = %g' %testloss)\n",
    "plt.show()"
   ]
  },
  {
   "cell_type": "code",
   "execution_count": 14,
   "metadata": {
    "colab": {
     "base_uri": "https://localhost:8080/",
     "height": 470
    },
    "executionInfo": {
     "elapsed": 6,
     "status": "ok",
     "timestamp": 1681383657512,
     "user": {
      "displayName": "Ashim Malgope",
      "userId": "17668799308781208227"
     },
     "user_tz": -330
    },
    "id": "Bx_2pRmvHeZZ",
    "outputId": "b6dd84da-d410-4d0b-b8e9-4147fa34e2a5"
   },
   "outputs": [
    {
     "data": {
      "image/png": "[encoded data removed]",
      "text/plain": [
       "<Figure size 640x480 with 1 Axes>"
      ]
     },
     "metadata": {},
     "output_type": "display_data"
    },
    {
     "name": "stdout",
     "output_type": "stream",
     "text": [
      "time: 192 ms (started: 2023-04-17 20:44:12 +05:30)\n"
     ]
    }
   ],
   "source": [
    "# plot the data\n",
    "plt.plot(x, y, 'bo', label='Real data')\n",
    "plt.plot(x, predictions, 'rs', label='Predictions')\n",
    "plt.title(f'prediction-data r={np.corrcoef(tf.transpose(y), tf.transpose(predictions))[0, 1]:.2f}')\n",
    "plt.legend()\n",
    "plt.show()"
   ]
  },
  {
   "cell_type": "code",
   "execution_count": null,
   "metadata": {},
   "outputs": [],
   "source": []
  }
 ],
 "metadata": {
  "colab": {
   "authorship_tag": "ABX9TyOboqBiQYGEPSsOh6aUxGve",
   "provenance": []
  },
  "gpuClass": "standard",
  "kernelspec": {
   "display_name": "tensorflow-gpu",
   "language": "python",
   "name": "tensorflow-gpu"
  },
  "language_info": {
   "codemirror_mode": {
    "name": "ipython",
    "version": 3
   },
   "file_extension": ".py",
   "mimetype": "text/x-python",
   "name": "python",
   "nbconvert_exporter": "python",
   "pygments_lexer": "ipython3",
   "version": "3.10.10"
  }
 },
 "nbformat": 4,
 "nbformat_minor": 4
}
